{
  "nbformat": 4,
  "nbformat_minor": 0,
  "metadata": {
    "colab": {
      "name": "Untitled0.ipynb",
      "provenance": [],
      "collapsed_sections": []
    },
    "kernelspec": {
      "name": "python3",
      "display_name": "Python 3"
    },
    "language_info": {
      "name": "python"
    },
    "accelerator": "GPU"
  },
  "cells": [
    {
      "cell_type": "code",
      "metadata": {
        "colab": {
          "base_uri": "https://localhost:8080/"
        },
        "id": "K0e7UOybOj8S",
        "outputId": "d9bb32be-7519-42a4-c5c9-c1e385b71529"
      },
      "source": [
        "from google.colab import drive\n",
        "drive.mount('/content/drive')"
      ],
      "execution_count": null,
      "outputs": [
        {
          "output_type": "stream",
          "text": [
            "Mounted at /content/drive\n"
          ],
          "name": "stdout"
        }
      ]
    },
    {
      "cell_type": "code",
      "metadata": {
        "id": "hnpnf5GBOrbk"
      },
      "source": [
        "import numpy as np\n",
        "import pandas as pd\n",
        "import os\n",
        "import random\n",
        "import tensorflow as tf\n",
        "from tensorflow.keras.preprocessing.image import ImageDataGenerator\n",
        "import keras.backend as K\n",
        "\n",
        "from tensorflow.keras.layers import *\n",
        "from tensorflow.keras.callbacks import *\n",
        "from tensorflow.keras.optimizers import *\n",
        "from tensorflow.keras.applications import MobileNet, MobileNetV2, DenseNet121, NASNetMobile, EfficientNetB0, EfficientNetB1\n",
        "from tensorflow.keras.activations import *\n",
        "from tensorflow.keras.losses import *\n",
        "from keras.callbacks import LearningRateScheduler\n",
        "\n",
        "import cv2\n",
        "from google.colab.patches import cv2_imshow\n",
        "import matplotlib.pyplot as plt\n",
        "import joblib\n",
        "from keras.preprocessing.image import load_img\n",
        "from keras.preprocessing import image\n",
        "\n",
        "import warnings\n",
        "warnings.filterwarnings(\"ignore\")\n",
        "\n",
        "FILEPATH= '/content/drive/MyDrive/Colab Notebooks/Waste-Dataset/'\n",
        "\n",
        "%matplotlib inline\n",
        "print(tf.executing_eagerly())\n",
        "print(\"Num GPUs Available: \", len(tf.config.list_physical_devices('GPU')))\n",
        "EPOCH = 10"
      ],
      "execution_count": null,
      "outputs": []
    },
    {
      "cell_type": "code",
      "metadata": {
        "id": "uOK-Nbj_htXQ"
      },
      "source": [
        "# if using TPU\n",
        "# try:\n",
        "#     tpu = tf.distribute.cluster_resolver.TPUClusterResolver()\n",
        "#     print('Running on TPU {}'.format(tpu.cluster_spec().as_dict()['worker']))\n",
        "# except ValueError:\n",
        "#     tpu = None\n",
        "\n",
        "# if tpu:\n",
        "#     tf.config.experimental_connect_to_cluster(tpu)\n",
        "#     tf.tpu.experimental.initialize_tpu_system(tpu)\n",
        "#     strategy = tf.distribute.experimental.TPUStrategy(tpu)\n",
        "# else:\n",
        "#     strategy = tf.distribute.get_strategy()\n",
        "\n",
        "# print(\"REPLICAS: {}\".format(strategy.num_replicas_in_sync))"
      ],
      "execution_count": null,
      "outputs": []
    },
    {
      "cell_type": "code",
      "metadata": {
        "id": "_yQvZfFtO7Jd"
      },
      "source": [
        "train_dir = '/content/drive/MyDrive/Colab Notebooks/Waste-Dataset/train/'\n",
        "train_datagen = ImageDataGenerator( rescale=1./255,\n",
        "    shear_range=0.1,\n",
        "    zoom_range=0.1,\n",
        "    width_shift_range=0.1,\n",
        "    height_shift_range=0.1,\n",
        "    horizontal_flip=True,\n",
        "    vertical_flip=True)\n",
        "train_generator = train_datagen.flow_from_directory(train_dir,\n",
        "                                                    batch_size=8,\n",
        "                                                    class_mode='categorical',\n",
        "                                                    target_size=(224, 224),\n",
        "                                                    shuffle = True)\n",
        "\n",
        "validation_dir = '/content/drive/MyDrive/Colab Notebooks/Waste-Dataset/test/'\n",
        "validation_datagen = ImageDataGenerator( rescale=1.0/255,\n",
        "    horizontal_flip=True,\n",
        "    vertical_flip=True)\n",
        "validation_generator = validation_datagen.flow_from_directory(validation_dir,\n",
        "                                                              batch_size=8,\n",
        "                                                              class_mode ='categorical',\n",
        "                                                              target_size=(224, 224),\n",
        "                                                              shuffle = True)\n",
        "\n"
      ],
      "execution_count": null,
      "outputs": []
    },
    {
      "cell_type": "code",
      "metadata": {
        "id": "1m-3GY15O7MG"
      },
      "source": [
        "K.clear_session()\n",
        "base_model = MobileNet(\n",
        "    include_top=False, weights='imagenet', input_tensor=None,\n",
        "    input_shape=(224,224,3), classes = 2\n",
        ")\n",
        "\n",
        "for layer in base_model.layers:\n",
        "  layer.trainable =  True"
      ],
      "execution_count": null,
      "outputs": []
    },
    {
      "cell_type": "code",
      "metadata": {
        "id": "F_3EcTtHO7Ok"
      },
      "source": [
        "def make_model():\n",
        "  inp= Input(shape=(224, 224, 3))\n",
        "  if(len(inp.shape)==3):\n",
        "    inp = tf.expand_dims(inp, axis=0)\n",
        "  x = base_model(inp)\n",
        "  x= Flatten()(x)\n",
        "  x= Dropout(0.3)(x)\n",
        "  x= Dense(68)(x)\n",
        "  x= Dense(34,activation='softmax')(x)\n",
        "  model = tf.keras.Model(inputs= inp, outputs= x)\n",
        "  return model\n",
        "\n",
        "\n",
        "# with strategy.scope():\n",
        "model = make_model()\n",
        "model.load_weights('/content/drive/MyDrive/Colab Notebooks/Waste-Dataset/waste-classifier.hdf5')\n",
        "model.compile(optimizer = Adam(learning_rate=2e-4), loss='categorical_crossentropy', metrics=['acc'])\n",
        "model.summary()"
      ],
      "execution_count": null,
      "outputs": []
    },
    {
      "cell_type": "code",
      "metadata": {
        "id": "h5hKEptEO7RQ"
      },
      "source": [
        "filepath= FILEPATH + 'waste-classifier1.hdf5'  \n",
        "my_callbacks = [\n",
        "  ReduceLROnPlateau(\n",
        "    monitor='val_loss', factor=0.5, patience=2, verbose=True,\n",
        "    mode='min', min_delta=0.01, cooldown=0, min_lr=0 \n",
        "  ), \n",
        "  ModelCheckpoint(\n",
        "    filepath, monitor='val_acc', verbose=1, save_best_only=True, mode= 'max')]"
      ],
      "execution_count": null,
      "outputs": []
    },
    {
      "cell_type": "code",
      "metadata": {
        "id": "Ed8JQ-wgO7Y4"
      },
      "source": [
        "for layer in model.layers:\n",
        "  layer.trainable=True\n",
        "\n",
        "\n",
        "fine_tune_at = int (len(model.layers)*0.9)\n",
        "for layer in model.layers[:fine_tune_at]:\n",
        "  layer.trainable =  False"
      ],
      "execution_count": null,
      "outputs": []
    },
    {
      "cell_type": "code",
      "metadata": {
        "id": "s1wCp8MaO7bf"
      },
      "source": [
        "history = model.fit(train_generator,\n",
        "                    shuffle = True,\n",
        "                    epochs=int(EPOCH*1.5),\n",
        "                    verbose=True,\n",
        "                    use_multiprocessing=True,\n",
        "                    validation_data=validation_generator,\n",
        "                    callbacks=my_callbacks)"
      ],
      "execution_count": null,
      "outputs": []
    },
    {
      "cell_type": "code",
      "metadata": {
        "id": "QcTzdqjpO7eH"
      },
      "source": [
        "acc = history.history['acc']\n",
        "val_acc = history.history['val_acc']\n",
        "\n",
        "loss = history.history['loss']\n",
        "val_loss = history.history['val_loss']\n",
        "\n",
        "print(acc)\n",
        "print(val_acc)\n",
        "\n",
        "plt.figure(figsize=(8, 8))\n",
        "plt.subplot(2, 1, 1)\n",
        "plt.plot(acc, label='Training Accuracy')\n",
        "plt.plot(val_acc, label='Validation Accuracy')\n",
        "plt.legend(loc='lower right')\n",
        "plt.ylabel('Accuracy')\n",
        "plt.ylim([min(plt.ylim()),1])\n",
        "plt.title('Training and Validation Accuracy')\n",
        "\n",
        "plt.subplot(2, 1, 2)\n",
        "plt.plot(loss, label='Training Loss')\n",
        "plt.plot(val_loss, label='Validation Loss')\n",
        "plt.legend(loc='upper right')\n",
        "plt.ylabel('Cross Entropy')\n",
        "plt.ylim([0,max(plt.ylim())])\n",
        "plt.title('Training and Validation Loss')\n",
        "plt.show()"
      ],
      "execution_count": null,
      "outputs": []
    },
    {
      "cell_type": "code",
      "metadata": {
        "id": "g9nPBZtPO7gr"
      },
      "source": [
        "for layer in model.layers:\n",
        "  layer.trainable=True\n",
        "\n",
        "\n",
        "fine_tune_at = int (len(model.layers)*0.7)\n",
        "for layer in model.layers[:fine_tune_at]:\n",
        "  layer.trainable =  False"
      ],
      "execution_count": null,
      "outputs": []
    },
    {
      "cell_type": "code",
      "metadata": {
        "id": "uQcl5_HcO7jS"
      },
      "source": [
        "history = model.fit(train_generator,\n",
        "                    shuffle = True,\n",
        "                    epochs=int(EPOCH*2),\n",
        "                    verbose=True,\n",
        "                    use_multiprocessing=True,\n",
        "                    validation_data=validation_generator,\n",
        "                    callbacks=my_callbacks)"
      ],
      "execution_count": null,
      "outputs": []
    },
    {
      "cell_type": "code",
      "metadata": {
        "id": "ohHJykyOO7l1"
      },
      "source": [
        "acc = history.history['acc']\n",
        "val_acc = history.history['val_acc']\n",
        "\n",
        "loss = history.history['loss']\n",
        "val_loss = history.history['val_loss']\n",
        "\n",
        "print(acc)\n",
        "print(val_acc)\n",
        "\n",
        "plt.figure(figsize=(8, 8))\n",
        "plt.subplot(2, 1, 1)\n",
        "plt.plot(acc, label='Training Accuracy')\n",
        "plt.plot(val_acc, label='Validation Accuracy')\n",
        "plt.legend(loc='lower right')\n",
        "plt.ylabel('Accuracy')\n",
        "plt.ylim([min(plt.ylim()),1])\n",
        "plt.title('Training and Validation Accuracy')\n",
        "\n",
        "plt.subplot(2, 1, 2)\n",
        "plt.plot(loss, label='Training Loss')\n",
        "plt.plot(val_loss, label='Validation Loss')\n",
        "plt.legend(loc='upper right')\n",
        "plt.ylabel('Cross Entropy')\n",
        "plt.ylim([0,max(plt.ylim())])\n",
        "plt.title('Training and Validation Loss')\n",
        "plt.show()"
      ],
      "execution_count": null,
      "outputs": []
    },
    {
      "cell_type": "code",
      "metadata": {
        "id": "KZlN4seQO7oh"
      },
      "source": [
        "for layer in model.layers:\n",
        "  layer.trainable=True\n",
        "\n",
        "\n",
        "fine_tune_at = int (len(model.layers)*0.6)\n",
        "for layer in model.layers[:fine_tune_at]:\n",
        "  layer.trainable =  False"
      ],
      "execution_count": null,
      "outputs": []
    },
    {
      "cell_type": "code",
      "metadata": {
        "id": "viTHK7O1O7rB"
      },
      "source": [
        "history = model.fit(train_generator,\n",
        "                    shuffle = True,\n",
        "                    epochs=int(EPOCH),\n",
        "                    verbose=True,\n",
        "                    use_multiprocessing=True,\n",
        "                    validation_data=validation_generator,\n",
        "                    callbacks=my_callbacks)"
      ],
      "execution_count": null,
      "outputs": []
    },
    {
      "cell_type": "code",
      "metadata": {
        "id": "ceMkjFiLO7tl"
      },
      "source": [
        "acc = history.history['acc']\n",
        "val_acc = history.history['val_acc']\n",
        "\n",
        "loss = history.history['loss']\n",
        "val_loss = history.history['val_loss']\n",
        "\n",
        "print(acc)\n",
        "print(val_acc)\n",
        "\n",
        "plt.figure(figsize=(8, 8))\n",
        "plt.subplot(2, 1, 1)\n",
        "plt.plot(acc, label='Training Accuracy')\n",
        "plt.plot(val_acc, label='Validation Accuracy')\n",
        "plt.legend(loc='lower right')\n",
        "plt.ylabel('Accuracy')\n",
        "plt.ylim([min(plt.ylim()),1])\n",
        "plt.title('Training and Validation Accuracy')\n",
        "\n",
        "plt.subplot(2, 1, 2)\n",
        "plt.plot(loss, label='Training Loss')\n",
        "plt.plot(val_loss, label='Validation Loss')\n",
        "plt.legend(loc='upper right')\n",
        "plt.ylabel('Cross Entropy')\n",
        "plt.ylim([0,max(plt.ylim())])\n",
        "plt.title('Training and Validation Loss')\n",
        "plt.show()"
      ],
      "execution_count": null,
      "outputs": []
    },
    {
      "cell_type": "markdown",
      "metadata": {
        "id": "R2IzPYEW8vuf"
      },
      "source": [
        "Creating the TFLITE model"
      ]
    },
    {
      "cell_type": "code",
      "metadata": {
        "id": "KI_4OtLAO7xH"
      },
      "source": [
        "model = tf.keras.models.load_model('/content/drive/MyDrive/Colab Notebooks/Waste-Dataset/waste-classifier.hdf5')\n",
        "converter = tf.lite.TFLiteConverter.from_keras_model(model)"
      ],
      "execution_count": null,
      "outputs": []
    },
    {
      "cell_type": "code",
      "metadata": {
        "id": "EuUKffYrSSl9"
      },
      "source": [
        "converter.optimizations = [tf.lite.Optimize.OPTIMIZE_FOR_LATENCY, tf.lite.Optimize.DEFAULT]\n",
        "tflite_model = converter.convert()"
      ],
      "execution_count": null,
      "outputs": []
    },
    {
      "cell_type": "code",
      "metadata": {
        "id": "oexz5M4tSSoe",
        "colab": {
          "base_uri": "https://localhost:8080/"
        },
        "outputId": "c46f0068-b981-4cd4-bd52-ca5486073447"
      },
      "source": [
        "import pathlib\n",
        "tflite_model_file = pathlib.Path(FILEPATH +'waste-classifier.tflite')\n",
        "tflite_model_file.write_bytes(tflite_model)"
      ],
      "execution_count": null,
      "outputs": [
        {
          "output_type": "execute_result",
          "data": {
            "text/plain": [
              "6887808"
            ]
          },
          "metadata": {
            "tags": []
          },
          "execution_count": 10
        }
      ]
    },
    {
      "cell_type": "code",
      "metadata": {
        "id": "1DQxmKZYSSqx"
      },
      "source": [
        "interpreter = tf.lite.Interpreter(model_path= '/content/drive/MyDrive/Colab Notebooks/Waste-Dataset/waste-classifier.tflite')\n",
        "interpreter.allocate_tensors()\n",
        "\n",
        "# Get input and output tensors.\n",
        "input_details = interpreter.get_input_details()\n",
        "output_details = interpreter.get_output_details()\n",
        "\n",
        "print(input_details)\n",
        "print(output_details)"
      ],
      "execution_count": null,
      "outputs": []
    },
    {
      "cell_type": "code",
      "metadata": {
        "id": "9hC3QH_ASStd"
      },
      "source": [
        "# Test model on random input data.\n",
        "input_shape = input_details[0]['shape']\n",
        "input_data = np.array(np.random.random_sample(input_shape), dtype=np.float32)\n",
        "interpreter.set_tensor(input_details[0]['index'], input_data)\n",
        "\n",
        "interpreter.invoke()\n",
        "\n",
        "# The function `get_tensor()` returns a copy of the tensor data.\n",
        "# Use `tensor()` in order to get a pointer to the tensor.\n",
        "output_data = interpreter.get_tensor(output_details[0]['index'])\n",
        "print(output_data)\n"
      ],
      "execution_count": null,
      "outputs": []
    },
    {
      "cell_type": "code",
      "metadata": {
        "id": "tKXDfnI29BI0",
        "colab": {
          "base_uri": "https://localhost:8080/",
          "height": 17
        },
        "outputId": "39581154-6d49-454d-c0d3-56684ea8e084"
      },
      "source": [
        "from google.colab import files\n",
        "files.download('/content/drive/MyDrive/Colab Notebooks/Waste-Dataset/waste-classifier.tflite')"
      ],
      "execution_count": null,
      "outputs": [
        {
          "output_type": "display_data",
          "data": {
            "application/javascript": [
              "\n",
              "    async function download(id, filename, size) {\n",
              "      if (!google.colab.kernel.accessAllowed) {\n",
              "        return;\n",
              "      }\n",
              "      const div = document.createElement('div');\n",
              "      const label = document.createElement('label');\n",
              "      label.textContent = `Downloading \"${filename}\": `;\n",
              "      div.appendChild(label);\n",
              "      const progress = document.createElement('progress');\n",
              "      progress.max = size;\n",
              "      div.appendChild(progress);\n",
              "      document.body.appendChild(div);\n",
              "\n",
              "      const buffers = [];\n",
              "      let downloaded = 0;\n",
              "\n",
              "      const channel = await google.colab.kernel.comms.open(id);\n",
              "      // Send a message to notify the kernel that we're ready.\n",
              "      channel.send({})\n",
              "\n",
              "      for await (const message of channel.messages) {\n",
              "        // Send a message to notify the kernel that we're ready.\n",
              "        channel.send({})\n",
              "        if (message.buffers) {\n",
              "          for (const buffer of message.buffers) {\n",
              "            buffers.push(buffer);\n",
              "            downloaded += buffer.byteLength;\n",
              "            progress.value = downloaded;\n",
              "          }\n",
              "        }\n",
              "      }\n",
              "      const blob = new Blob(buffers, {type: 'application/binary'});\n",
              "      const a = document.createElement('a');\n",
              "      a.href = window.URL.createObjectURL(blob);\n",
              "      a.download = filename;\n",
              "      div.appendChild(a);\n",
              "      a.click();\n",
              "      div.remove();\n",
              "    }\n",
              "  "
            ],
            "text/plain": [
              "<IPython.core.display.Javascript object>"
            ]
          },
          "metadata": {
            "tags": []
          }
        },
        {
          "output_type": "display_data",
          "data": {
            "application/javascript": [
              "download(\"download_6839d498-2d52-4bf2-a640-43857f5cc29e\", \"waste-classifier.tflite\", 6887808)"
            ],
            "text/plain": [
              "<IPython.core.display.Javascript object>"
            ]
          },
          "metadata": {
            "tags": []
          }
        }
      ]
    }
  ]
}